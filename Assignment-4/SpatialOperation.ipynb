{
 "metadata": {
  "language_info": {
   "codemirror_mode": {
    "name": "ipython",
    "version": 3
   },
   "file_extension": ".py",
   "mimetype": "text/x-python",
   "name": "python",
   "nbconvert_exporter": "python",
   "pygments_lexer": "ipython3",
   "version": "3.9.1-final"
  },
  "orig_nbformat": 2,
  "kernelspec": {
   "name": "python3",
   "display_name": "Python 3.9.1 64-bit",
   "metadata": {
    "interpreter": {
     "hash": "ee5cc6fef2d70a7e71ee3826687cbd150f18158e0b1eef11d4f4f92bb920e304"
    }
   }
  }
 },
 "nbformat": 4,
 "nbformat_minor": 2,
 "cells": [
  {
   "source": [
    "# Assignment 4.2 (Neighbourhood Operations)\n",
    "\n",
    "1. Averaging\n",
    "2. Max and\n",
    "3. Min operation\n",
    "#### Note: here take grid size from the user."
   ],
   "cell_type": "markdown",
   "metadata": {}
  },
  {
   "cell_type": "code",
   "execution_count": 4,
   "metadata": {},
   "outputs": [],
   "source": [
    "import math\n",
    "from random import *\n",
    "import numpy as np"
   ]
  },
  {
   "cell_type": "code",
   "execution_count": 5,
   "metadata": {},
   "outputs": [],
   "source": [
    "def generated_padded_matrix(matrix, gridSize):\n",
    "    rows = len(matrix) + 2*(gridSize/2)\n",
    "    cols = len(matrix[0]) + 2*(gridSize/2)\n",
    "    paddedMatrix = np.zeros([rows, cols], dtype=int)\n",
    "    \n",
    "    for i in range(0, gridSize/2):\n",
    "        for j in range(cols):\n",
    "            paddedMatrix[i][j] = 0\n",
    "    for i in range(0, gridSize/2):\n",
    "        for j in range(cols):\n",
    "            paddedMatrix[i][j] = 0\n",
    "    "
   ]
  },
  {
   "cell_type": "code",
   "execution_count": null,
   "metadata": {},
   "outputs": [],
   "source": [
    "def averaging(matrix, gridSize):\n",
    "    paddedMatrix = generate_padded_matrix(matrix, gridSize)\n",
    "    m = len(matrix)\n",
    "    n = len(matrix[0])\n",
    "    k = gridSize/2\n",
    "\n",
    "    for i in range(m):\n",
    "        for j in range(n):\n",
    "            "
   ]
  },
  {
   "cell_type": "code",
   "execution_count": 2,
   "metadata": {},
   "outputs": [],
   "source": [
    "def generateRandomImage(height, width):\n",
    "    '''\n",
    "        Description: Utility function to generate random matrix with grayscale values\n",
    "    '''\n",
    "    image = np.zeros([image_width, image_height], dtype=int) \n",
    "    for row in range(height):\n",
    "        for col in range(width):\n",
    "            image[row][col] = randint(0, 1000)\n",
    "    return image\n"
   ]
  },
  {
   "cell_type": "code",
   "execution_count": null,
   "metadata": {},
   "outputs": [],
   "source": []
  }
 ]
}