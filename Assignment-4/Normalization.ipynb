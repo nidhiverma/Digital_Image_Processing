{
 "metadata": {
  "language_info": {
   "codemirror_mode": {
    "name": "ipython",
    "version": 3
   },
   "file_extension": ".py",
   "mimetype": "text/x-python",
   "name": "python",
   "nbconvert_exporter": "python",
   "pygments_lexer": "ipython3",
   "version": "3.9.1-final"
  },
  "orig_nbformat": 2,
  "kernelspec": {
   "name": "python3",
   "display_name": "Python 3.9.1 64-bit",
   "metadata": {
    "interpreter": {
     "hash": "ee5cc6fef2d70a7e71ee3826687cbd150f18158e0b1eef11d4f4f92bb920e304"
    }
   }
  }
 },
 "nbformat": 4,
 "nbformat_minor": 2,
 "cells": [
  {
   "source": [
    "# Assignment 4\n",
    "#### 1. Normalization of intensity values between \\[0 to K\\]"
   ],
   "cell_type": "markdown",
   "metadata": {}
  },
  {
   "cell_type": "code",
   "execution_count": 1,
   "metadata": {},
   "outputs": [],
   "source": [
    "import math\n",
    "from random import *\n",
    "import numpy as np"
   ]
  },
  {
   "cell_type": "code",
   "execution_count": 2,
   "metadata": {},
   "outputs": [],
   "source": [
    "def getMaxIntensityValue(matrix):\n",
    "    '''\n",
    "        Description: Function to get the maximum intensity pixel value of an image\n",
    "        Input: a 2-D matrix containing image pixel intensity values\n",
    "        Output: maximum intensity value\n",
    "    '''\n",
    "    maximumIntensity = 0\n",
    "    m = len(matrix)\n",
    "    n = len(matrix[0])\n",
    "\n",
    "    for i in range(m):\n",
    "        for j in range(n):\n",
    "            if matrix[i][j] > maximumIntensity:\n",
    "                maximumIntensity = matrix[i][j]\n",
    "    return maximumIntensity"
   ]
  },
  {
   "cell_type": "code",
   "execution_count": 44,
   "metadata": {},
   "outputs": [],
   "source": [
    "def normalization(matrix, K):\n",
    "    '''\n",
    "        Description: Function to normalize intensity values of an image\n",
    "        Input: a 2-D intensity matrix\n",
    "        Output: a 2-D intensity matrix with normalized intensity values in the range [0 to K]\n",
    "    '''\n",
    "    m = len(matrix)\n",
    "    n = len(matrix[0])\n",
    "    maxIntensityValue = getMaxIntensityValue(matrix)\n",
    "    normalizedMatrix = np.zeros([m,n], dtype=float)\n",
    "    \n",
    "    for i in range(m):\n",
    "        for j in range(n):\n",
    "            normalizedMatrix[i][j] = (matrix[i][j]/maxIntensityValue) * K\n",
    "    \n",
    "    return normalizedMatrix"
   ]
  },
  {
   "cell_type": "code",
   "execution_count": 27,
   "metadata": {},
   "outputs": [],
   "source": [
    "def generateRandomImage(height, width):\n",
    "    '''\n",
    "        Description: Utility function to generate random matrix with grayscale values\n",
    "    '''\n",
    "    image = np.zeros([image_width, image_height], dtype=int) \n",
    "    for row in range(height):\n",
    "        for col in range(width):\n",
    "            image[row][col] = randint(0, 1000)\n",
    "    return image\n"
   ]
  },
  {
   "source": [
    "### User Input"
   ],
   "cell_type": "markdown",
   "metadata": {}
  },
  {
   "cell_type": "code",
   "execution_count": 28,
   "metadata": {},
   "outputs": [
    {
     "output_type": "stream",
     "name": "stdout",
     "text": [
      "Enter Image Size\n",
      "\n",
      "Image Height: 4\n",
      "Image Width: 4\n"
     ]
    }
   ],
   "source": [
    "print(\"Enter Image Size\\n\")\n",
    "image_height = int(input(\"Image Height\"))\n",
    "image_width = int(input(\"Image Width\"))\n",
    "print('Image Height: {}\\nImage Width: {}'.format(image_height, image_width))"
   ]
  },
  {
   "cell_type": "code",
   "execution_count": 29,
   "metadata": {},
   "outputs": [],
   "source": [
    "image = generateRandomImage(image_height, image_width)"
   ]
  },
  {
   "cell_type": "code",
   "execution_count": 42,
   "metadata": {},
   "outputs": [
    {
     "output_type": "stream",
     "name": "stdout",
     "text": [
      "Generated Image: \n[[888 331 148 104]\n [885 334 869 492]\n [280 311 562  46]\n [134  80 452 926]]\n"
     ]
    }
   ],
   "source": [
    "print(\"Generated Image: \\n{}\".format(image))"
   ]
  },
  {
   "source": [
    "### Apply normalization on input image"
   ],
   "cell_type": "markdown",
   "metadata": {}
  },
  {
   "cell_type": "code",
   "execution_count": 51,
   "metadata": {},
   "outputs": [],
   "source": [
    "# apply normalization\n",
    "K = int(input(\"Enter K for normalization: \"))\n",
    "normalizedImage = normalization(image, K)"
   ]
  },
  {
   "source": [
    "### Final Result after Normalization"
   ],
   "cell_type": "markdown",
   "metadata": {}
  },
  {
   "cell_type": "code",
   "execution_count": 52,
   "metadata": {},
   "outputs": [
    {
     "output_type": "stream",
     "name": "stdout",
     "text": [
      "Original Image:\n\n[[888 331 148 104]\n [885 334 869 492]\n [280 311 562  46]\n [134  80 452 926]]\n\n\nNormalized Image for K = 255\n\n [[244.53563715  91.15010799  40.75593952  28.63930886]\n [243.70950324  91.9762419  239.30345572 135.48596112]\n [ 77.10583153  85.6425486  154.76241901  12.66738661]\n [ 36.90064795  22.03023758 124.47084233 255.        ]]\n"
     ]
    }
   ],
   "source": [
    "print(\"Original Image:\\n\\n{}\\n\\n\".format(image))\n",
    "print(\"Normalized Image for K = {}\\n\\n {}\".format(K, normalizedImage))"
   ]
  },
  {
   "cell_type": "code",
   "execution_count": null,
   "metadata": {},
   "outputs": [],
   "source": []
  }
 ]
}