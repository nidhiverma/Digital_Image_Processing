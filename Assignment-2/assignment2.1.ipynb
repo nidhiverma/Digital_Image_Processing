{
 "metadata": {
  "language_info": {
   "codemirror_mode": {
    "name": "ipython",
    "version": 3
   },
   "file_extension": ".py",
   "mimetype": "text/x-python",
   "name": "python",
   "nbconvert_exporter": "python",
   "pygments_lexer": "ipython3",
   "version": "3.9.1-final"
  },
  "orig_nbformat": 2,
  "kernelspec": {
   "name": "python3",
   "display_name": "Python 3.9.1 64-bit",
   "metadata": {
    "interpreter": {
     "hash": "ee5cc6fef2d70a7e71ee3826687cbd150f18158e0b1eef11d4f4f92bb920e304"
    }
   }
  }
 },
 "nbformat": 4,
 "nbformat_minor": 2,
 "cells": [
  {
   "source": [
    "# Assignment 2.1: Distance Transform"
   ],
   "cell_type": "markdown",
   "metadata": {}
  },
  {
   "cell_type": "code",
   "execution_count": 1,
   "metadata": {},
   "outputs": [],
   "source": [
    "import numpy as np\n",
    "import math"
   ]
  },
  {
   "source": [
    "### Intensity Matrix"
   ],
   "cell_type": "markdown",
   "metadata": {}
  },
  {
   "cell_type": "code",
   "execution_count": 2,
   "metadata": {},
   "outputs": [],
   "source": [
    "intensity = np.array([[0,1,1,0,1,0,0],\n",
    "                      [0,1,1,1,1,1,0],\n",
    "                      [0,1,1,1,1,1,0],\n",
    "                      [0,1,1,1,1,1,0],\n",
    "                      [0,1,1,1,1,1,0],\n",
    "                      [0,1,1,1,1,0,0]])"
   ]
  },
  {
   "source": [
    "### Function for distance transform"
   ],
   "cell_type": "markdown",
   "metadata": {}
  },
  {
   "cell_type": "code",
   "execution_count": 3,
   "metadata": {},
   "outputs": [],
   "source": [
    "def distanceTransform(intensity):\n",
    "    # add boundary padding to image pixel intensity matrix\n",
    "    transformedMatrix = np.zeros([len(intensity)+2, len(intensity[0])+2], dtype=int) \n",
    "\n",
    "    for i in range(len(transformedMatrix)):\n",
    "        transformedMatrix[i][0] = 0\n",
    "        transformedMatrix[i][len(intensity[0])] = 0\n",
    "\n",
    "    for j in range(len(transformedMatrix[0])):\n",
    "        transformedMatrix[0][j] = 0\n",
    "        transformedMatrix[len(intensity)] = 0\n",
    "\n",
    "    for i in range(0, len(intensity)):\n",
    "        for j in range(0, len(intensity[0])):\n",
    "            transformedMatrix[i+1][j+1] = intensity[i][j]\n",
    "    \n",
    "    for i in range(1, len(transformedMatrix)-1):\n",
    "        for j in range(1, len(transformedMatrix[0])-1):\n",
    "            if intensity[i-1][j-1] == 1:\n",
    "                left = transformedMatrix[i][j-1]    \n",
    "                right = transformedMatrix[i][j+1]\n",
    "                top = transformedMatrix[i-1][j]\n",
    "                down = transformedMatrix[i+1][j]\n",
    "                distFromBoundary = min(left, min(right, min(top, down))) + 1\n",
    "                transformedMatrix[i][j] = distFromBoundary\n",
    "    return transformedMatrix"
   ]
  },
  {
   "source": [
    "### Transformed image after distance transform"
   ],
   "cell_type": "markdown",
   "metadata": {}
  },
  {
   "cell_type": "code",
   "execution_count": 4,
   "metadata": {},
   "outputs": [
    {
     "output_type": "stream",
     "name": "stdout",
     "text": [
      "Image after distance transform:\n\n[[0 0 0 0 0 0 0 0 0]\n [0 0 1 1 0 1 0 0 0]\n [0 0 1 2 1 2 1 0 0]\n [0 0 1 2 2 2 1 0 0]\n [0 0 1 2 2 2 1 0 0]\n [0 0 1 2 2 2 1 0 0]\n [0 0 1 1 1 1 0 0 0]\n [0 0 0 0 0 0 0 0 0]]\n"
     ]
    }
   ],
   "source": [
    "tranformedMatrix = distanceTransform(intensity)\n",
    "print(\"Image after distance transform:\\n\\n{}\".format(tranformedMatrix))"
   ]
  },
  {
   "cell_type": "code",
   "execution_count": null,
   "metadata": {},
   "outputs": [],
   "source": []
  }
 ]
}