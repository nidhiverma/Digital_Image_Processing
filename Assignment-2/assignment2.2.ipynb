{
 "metadata": {
  "language_info": {
   "codemirror_mode": {
    "name": "ipython",
    "version": 3
   },
   "file_extension": ".py",
   "mimetype": "text/x-python",
   "name": "python",
   "nbconvert_exporter": "python",
   "pygments_lexer": "ipython3",
   "version": "3.9.1-final"
  },
  "orig_nbformat": 2,
  "kernelspec": {
   "name": "python3",
   "display_name": "Python 3.9.1 64-bit",
   "metadata": {
    "interpreter": {
     "hash": "ee5cc6fef2d70a7e71ee3826687cbd150f18158e0b1eef11d4f4f92bb920e304"
    }
   }
  }
 },
 "nbformat": 4,
 "nbformat_minor": 2,
 "cells": [
  {
   "source": [
    "# Assignment 2.2: Distance Metrics \n",
    "\n",
    "1. Eucledian Distance \n",
    "2. City Block Distance\n",
    "3. Chess Board Distance"
   ],
   "cell_type": "markdown",
   "metadata": {}
  },
  {
   "cell_type": "code",
   "execution_count": 2,
   "metadata": {},
   "outputs": [],
   "source": [
    "import math\n",
    "import numpy as np"
   ]
  },
  {
   "cell_type": "code",
   "execution_count": 3,
   "metadata": {},
   "outputs": [],
   "source": [
    "# Calculate the Eucledian distance between two points\n",
    "def eucledianDistance(image, center_x, center_y):\n",
    "    h = len(image)\n",
    "    w = len(image[0])\n",
    "    euclidDist = np.zeros([image_height, image_width], dtype=float)\n",
    "\n",
    "    for i in range(h):\n",
    "        for j in range(w):\n",
    "            euclidDist[i][j] = round(math.sqrt((i-center_x)**2 + (j-center_y)**2), 2)\n",
    "    return euclidDist"
   ]
  },
  {
   "cell_type": "code",
   "execution_count": 4,
   "metadata": {},
   "outputs": [],
   "source": [
    "# Calculate the City Block distance between two points\n",
    "def cityBlockDistance(image, center_x, center_y):\n",
    "    h = len(image)\n",
    "    w = len(image[0])\n",
    "    cityBlockDist = np.zeros([image_height, image_width], dtype=int)\n",
    "\n",
    "    for i in range(h):\n",
    "        for j in range(w):\n",
    "            cityBlockDist[i][j] = abs(i-center_x) + abs(j-center_y)\n",
    "    return cityBlockDist"
   ]
  },
  {
   "cell_type": "code",
   "execution_count": 5,
   "metadata": {},
   "outputs": [],
   "source": [
    "# Calculate the Chess Board distance between two points\n",
    "def chessBoardDistance(image, center_x, center_y):\n",
    "    h = len(image)\n",
    "    w = len(image[0])\n",
    "    chessBoardDist = np.zeros([image_height, image_width], dtype=int)\n",
    "\n",
    "    for i in range(h):\n",
    "        for j in range(w):\n",
    "            chessBoardDist[i][j] = max(abs(i-center_x), abs(j-center_y))\n",
    "    return chessBoardDist"
   ]
  },
  {
   "cell_type": "code",
   "execution_count": 6,
   "metadata": {},
   "outputs": [],
   "source": [
    "image_height = int(input())\n",
    "image_width = int(input())\n",
    "center_x = int(image_height/2)\n",
    "center_y = int(image_width/2)"
   ]
  },
  {
   "cell_type": "code",
   "execution_count": 7,
   "metadata": {},
   "outputs": [
    {
     "output_type": "execute_result",
     "data": {
      "text/plain": [
       "array([[0, 0, 0, 0, 0],\n",
       "       [0, 0, 0, 0, 0],\n",
       "       [0, 0, 0, 0, 0],\n",
       "       [0, 0, 0, 0, 0],\n",
       "       [0, 0, 0, 0, 0]])"
      ]
     },
     "metadata": {},
     "execution_count": 7
    }
   ],
   "source": [
    "image = np.zeros([image_height, image_width], dtype=int)\n",
    "image"
   ]
  },
  {
   "cell_type": "code",
   "execution_count": 8,
   "metadata": {},
   "outputs": [
    {
     "output_type": "stream",
     "name": "stdout",
     "text": [
      "Eucledian Distance Transformation\n[[2.83 2.24 2.   2.24 2.83]\n [2.24 1.41 1.   1.41 2.24]\n [2.   1.   0.   1.   2.  ]\n [2.24 1.41 1.   1.41 2.24]\n [2.83 2.24 2.   2.24 2.83]]\n"
     ]
    }
   ],
   "source": [
    "euclidDist = eucledianDistance(image, center_x, center_y)\n",
    "print(\"Eucledian Distance Transformation\\n{}\".format(euclidDist))"
   ]
  },
  {
   "cell_type": "code",
   "execution_count": 9,
   "metadata": {},
   "outputs": [
    {
     "output_type": "stream",
     "name": "stdout",
     "text": [
      "City Block Distance Transformation\n[[4 3 2 3 4]\n [3 2 1 2 3]\n [2 1 0 1 2]\n [3 2 1 2 3]\n [4 3 2 3 4]]\n"
     ]
    }
   ],
   "source": [
    "cityBlockDist = cityBlockDistance(image, center_x, center_y)\n",
    "print(\"City Block Distance Transformation\\n{}\".format(cityBlockDist))"
   ]
  },
  {
   "cell_type": "code",
   "execution_count": 10,
   "metadata": {},
   "outputs": [
    {
     "output_type": "stream",
     "name": "stdout",
     "text": [
      "Chess Board Distance Transformation\n[[2 2 2 2 2]\n [2 1 1 1 2]\n [2 1 0 1 2]\n [2 1 1 1 2]\n [2 2 2 2 2]]\n"
     ]
    }
   ],
   "source": [
    "chessBoardDist = chessBoardDistance(image, center_x, center_y)\n",
    "print(\"Chess Board Distance Transformation\\n{}\".format(chessBoardDist))"
   ]
  },
  {
   "cell_type": "code",
   "execution_count": null,
   "metadata": {},
   "outputs": [],
   "source": []
  }
 ]
}