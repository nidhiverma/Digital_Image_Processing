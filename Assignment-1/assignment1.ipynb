{
 "metadata": {
  "language_info": {
   "codemirror_mode": {
    "name": "ipython",
    "version": 3
   },
   "file_extension": ".py",
   "mimetype": "text/x-python",
   "name": "python",
   "nbconvert_exporter": "python",
   "pygments_lexer": "ipython3",
   "version": "3.9.1-final"
  },
  "orig_nbformat": 2,
  "kernelspec": {
   "name": "python3",
   "display_name": "Python 3.9.1 64-bit",
   "metadata": {
    "interpreter": {
     "hash": "ee5cc6fef2d70a7e71ee3826687cbd150f18158e0b1eef11d4f4f92bb920e304"
    }
   }
  }
 },
 "nbformat": 4,
 "nbformat_minor": 2,
 "cells": [
  {
   "source": [
    "# Assignment 1\n",
    "\n",
    "<b>1. Identify connected components in an image</b><br>\n",
    "<b>2. Print labelled image after Intermediate and Final processing steps</b>"
   ],
   "cell_type": "markdown",
   "metadata": {}
  },
  {
   "cell_type": "code",
   "execution_count": 1,
   "metadata": {},
   "outputs": [],
   "source": [
    "import numpy as np"
   ]
  },
  {
   "source": [
    "### Unprocessed Image "
   ],
   "cell_type": "markdown",
   "metadata": {}
  },
  {
   "cell_type": "code",
   "execution_count": 2,
   "metadata": {},
   "outputs": [],
   "source": [
    "intensityMatrix = np.array([[0,0,0,0,0,0,0,0,0],\n",
    "                            [0,0,0,0,0,0,1,0,0],\n",
    "                            [0,1,0,1,1,0,1,1,0],\n",
    "                            [0,1,1,0,1,0,1,1,0],\n",
    "                            [0,1,1,0,0,0,0,1,1],\n",
    "                            [0,0,1,0,0,0,0,1,1],\n",
    "                            [0,1,1,0,0,0,1,1,1],\n",
    "                            [0,1,0,0,0,0,0,0,0]])"
   ]
  },
  {
   "source": [
    "### Create another matrix 'labelMatrix' to store labels of connected components "
   ],
   "cell_type": "markdown",
   "metadata": {}
  },
  {
   "cell_type": "code",
   "execution_count": 3,
   "metadata": {},
   "outputs": [],
   "source": [
    "labelMatrix = np.zeros([8,9], dtype=int)"
   ]
  },
  {
   "cell_type": "code",
   "execution_count": 4,
   "metadata": {},
   "outputs": [
    {
     "output_type": "stream",
     "name": "stdout",
     "text": [
      "Initial label matrix:\n\n[[0 0 0 0 0 0 0 0 0]\n [0 0 0 0 0 0 0 0 0]\n [0 0 0 0 0 0 0 0 0]\n [0 0 0 0 0 0 0 0 0]\n [0 0 0 0 0 0 0 0 0]\n [0 0 0 0 0 0 0 0 0]\n [0 0 0 0 0 0 0 0 0]\n [0 0 0 0 0 0 0 0 0]]\n"
     ]
    }
   ],
   "source": [
    "print(\"Initial label matrix:\\n\\n{}\".format(labelMatrix))"
   ]
  },
  {
   "source": [
    "### Algorithm to label 4-connected components "
   ],
   "cell_type": "markdown",
   "metadata": {}
  },
  {
   "cell_type": "code",
   "execution_count": 5,
   "metadata": {},
   "outputs": [],
   "source": [
    "L = 1                   # label starts from 1\n",
    "equalLabels = dict()    # dictionary to store new label for 8-connected components\n",
    "\n",
    "# if first pixel of image is 1, label it as 1\n",
    "if intensityMatrix[0][0] == 1:        \n",
    "    labelMatrix[0][0] = L\n",
    "    L += 1\n",
    "\n",
    "# for first row\n",
    "for col in range(1, 9):\n",
    "    if intensityMatrix[0][col] == 1:\n",
    "        if intensityMatrix[0][col-1] == 1:\n",
    "            labelMatrix[0][col] = labelMatrix[0][col-1]\n",
    "        else:\n",
    "            labelMatrix[0][col] = L\n",
    "            L += 1\n",
    "\n",
    "# for first column \n",
    "for row in range(1, 8):\n",
    "    if(intensityMatrix[row][0] == 1):\n",
    "        if intensityMatrix[row-1][0] == 1:\n",
    "            labelMatrix[row][0] = labelMatrix[row-1][0]\n",
    "        else:\n",
    "            labelMatrix[row][0] = L\n",
    "            L += 1\n",
    "\n",
    "# for rest of the image cells\n",
    "for row in range(1, 8):\n",
    "    for col in range(1, 9):\n",
    "        leftCell = intensityMatrix[row][col-1]\n",
    "        leftCellLabel = labelMatrix[row][col-1]\n",
    "        topCell = intensityMatrix[row-1][col]\n",
    "        topCellLabel =labelMatrix[row-1][col]\n",
    "        currCell = intensityMatrix[row][col]\n",
    "\n",
    "        if currCell == 1:\n",
    "\n",
    "            # left and top cells both have value 1\n",
    "            # assign one of their labels to current pixel\n",
    "            # make a note that the two labels are equal\n",
    "            if leftCell == 1 and topCell == 1: \n",
    "                if leftCellLabel != topCellLabel:                   \n",
    "                    equalLabels[leftCellLabel] = topCellLabel\n",
    "                labelMatrix[row][col] = topCellLabel\n",
    "\n",
    "            # compare left cell, if value equals 1\n",
    "            # assign left cell's label    \n",
    "            elif leftCell == 1:          \n",
    "                labelMatrix[row][col] = leftCellLabel\n",
    "\n",
    "            # compare top cell, if value equals 1\n",
    "            # assign top cell's label    \n",
    "            elif topCell == 1:    \n",
    "                labelMatrix[row][col] = topCellLabel\n",
    "\n",
    "            # otherwise, assign a new label\n",
    "            else:\n",
    "                labelMatrix[row][col] = L\n",
    "                L += 1\n"
   ]
  },
  {
   "source": [
    "### Intermediate Processing: Obtained Connected components after component labelling "
   ],
   "cell_type": "markdown",
   "metadata": {}
  },
  {
   "cell_type": "code",
   "execution_count": 6,
   "metadata": {},
   "outputs": [
    {
     "output_type": "stream",
     "name": "stdout",
     "text": [
      "Connected components(before final processing) = 5\n\n[[0 0 0 0 0 0 0 0 0]\n [0 0 0 0 0 0 1 0 0]\n [0 2 0 3 3 0 1 1 0]\n [0 2 2 0 3 0 1 1 0]\n [0 2 2 0 0 0 0 1 1]\n [0 0 2 0 0 0 0 1 1]\n [0 4 2 0 0 0 5 1 1]\n [0 4 0 0 0 0 0 0 0]]\n\n"
     ]
    }
   ],
   "source": [
    "print(\"Connected components(before final processing) = {0}\\n\\n{1}\\n\".format(L-1,labelMatrix))\n"
   ]
  },
  {
   "source": [
    "### Final Processing Step: Obtained all truly Connected Components after replacing equivalent labels"
   ],
   "cell_type": "markdown",
   "metadata": {}
  },
  {
   "cell_type": "code",
   "execution_count": 7,
   "metadata": {},
   "outputs": [],
   "source": [
    "# replace equivalent labels\n",
    "for row in range(1, 8):\n",
    "    for col in range(1, 9):\n",
    "        if labelMatrix[row][col] in equalLabels:\n",
    "            labelMatrix[row][col] = equalLabels[labelMatrix[row][col]]"
   ]
  },
  {
   "cell_type": "code",
   "execution_count": 8,
   "metadata": {},
   "outputs": [
    {
     "output_type": "stream",
     "name": "stdout",
     "text": [
      "Equivalent labels:\n\n{4: 2, 5: 1}\n\nConnected components post-processing:\n\n[[0 0 0 0 0 0 0 0 0]\n [0 0 0 0 0 0 1 0 0]\n [0 2 0 3 3 0 1 1 0]\n [0 2 2 0 3 0 1 1 0]\n [0 2 2 0 0 0 0 1 1]\n [0 0 2 0 0 0 0 1 1]\n [0 2 2 0 0 0 1 1 1]\n [0 2 0 0 0 0 0 0 0]]\n\nFinal Connected Components = 3\n"
     ]
    }
   ],
   "source": [
    "print(\"Equivalent labels:\\n\\n{}\\n\".format(equalLabels))\n",
    "print(\"Connected components post-processing:\\n\\n{}\\n\".format(labelMatrix))\n",
    "print(\"Final Connected Components = {}\".format(L-len(equalLabels)-1))"
   ]
  }
 ]
}