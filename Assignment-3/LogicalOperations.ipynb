{
 "metadata": {
  "language_info": {
   "codemirror_mode": {
    "name": "ipython",
    "version": 3
   },
   "file_extension": ".py",
   "mimetype": "text/x-python",
   "name": "python",
   "nbconvert_exporter": "python",
   "pygments_lexer": "ipython3",
   "version": "3.9.1-final"
  },
  "orig_nbformat": 2,
  "kernelspec": {
   "name": "python3",
   "display_name": "Python 3.9.1 64-bit",
   "metadata": {
    "interpreter": {
     "hash": "ee5cc6fef2d70a7e71ee3826687cbd150f18158e0b1eef11d4f4f92bb920e304"
    }
   }
  }
 },
 "nbformat": 4,
 "nbformat_minor": 2,
 "cells": [
  {
   "source": [
    "# Assignment 3.1 (Logical Operations on Binary Images)\n",
    "<i>Date: 18-01-2021 </i><br>\n",
    "<i>Nidhi Verma, Roll No. 27</i>"
   ],
   "cell_type": "markdown",
   "metadata": {}
  },
  {
   "cell_type": "code",
   "execution_count": 1,
   "metadata": {},
   "outputs": [],
   "source": [
    "from random import *"
   ]
  },
  {
   "cell_type": "code",
   "execution_count": 5,
   "metadata": {},
   "outputs": [],
   "source": [
    "def generate_Matrix(size):\n",
    "    '''\n",
    "        Function to generate random matrix with binary values\n",
    "    '''\n",
    "    matrix = [[0 for i in range(size)] for j in range(size)] \n",
    "    for row in range(len(matrix)):\n",
    "        for col in range(len(matrix[row])):\n",
    "            matrix[row][col] = randint(0, 1)\n",
    "    return matrix"
   ]
  },
  {
   "source": [
    "### Logical AND"
   ],
   "cell_type": "markdown",
   "metadata": {}
  },
  {
   "cell_type": "code",
   "execution_count": 46,
   "metadata": {},
   "outputs": [],
   "source": [
    "def logicalAND(matrix1, matrix2):\n",
    "    '''\n",
    "        Function to perform logical AND operation on binary image\n",
    "    '''\n",
    "    output = [[0 for j in range(len(matrix1))] for i in range(len(matrix1))]\n",
    "\n",
    "    for i in range(len(matrix1)):\n",
    "        for j in range(len(matrix1)):\n",
    "            output[i][j] = 1 if matrix1[i][j] and matrix2[i][j] else 0\n",
    "    return output"
   ]
  },
  {
   "source": [
    "### Logical OR"
   ],
   "cell_type": "markdown",
   "metadata": {}
  },
  {
   "cell_type": "code",
   "execution_count": 47,
   "metadata": {},
   "outputs": [],
   "source": [
    "def logicalOR(matrix1, matrix2):\n",
    "    '''\n",
    "        Function to perform logical OR operation on binary image\n",
    "    '''\n",
    "    output = [[0 for j in range(len(matrix1))] for i in range(len(matrix1))]\n",
    "\n",
    "    for i in range(len(matrix1)):\n",
    "        for j in range(len(matrix1)):\n",
    "            output[i][j] = 1 if matrix1[i][j] or matrix2[i][j] else 0\n",
    "    return output"
   ]
  },
  {
   "source": [
    "### Logical XOR"
   ],
   "cell_type": "markdown",
   "metadata": {}
  },
  {
   "cell_type": "code",
   "execution_count": 48,
   "metadata": {},
   "outputs": [],
   "source": [
    "def logicalXOR(matrix1, matrix2):\n",
    "    '''\n",
    "        Function to perform logical XOR operation on binary image\n",
    "    '''\n",
    "    output = [[0 for j in range(len(matrix1))] for i in range(len(matrix1))]\n",
    "\n",
    "    for i in range(len(matrix1)):\n",
    "        for j in range(len(matrix1)):\n",
    "            output[i][j] = 1 if matrix1[i][j] ^ matrix2[i][j] else 0\n",
    "    return output"
   ]
  },
  {
   "source": [
    "### Logical NOT"
   ],
   "cell_type": "markdown",
   "metadata": {}
  },
  {
   "cell_type": "code",
   "execution_count": 53,
   "metadata": {},
   "outputs": [],
   "source": [
    "def logicalNOT(matrix):\n",
    "    '''\n",
    "        Function to perform logical NOT operation on binary image\n",
    "    '''\n",
    "    output = [[0 for j in range(len(matrix))] for i in range(len(matrix))]\n",
    "\n",
    "    for i in range(len(matrix)):\n",
    "        for j in range(len(matrix)):\n",
    "            output[i][j] = 1 if not matrix[i][j] else 0\n",
    "    return output"
   ]
  },
  {
   "cell_type": "code",
   "execution_count": 40,
   "metadata": {},
   "outputs": [],
   "source": [
    "def display(matrix):\n",
    "    for i in range(len(matrix)):\n",
    "        print(matrix[i], end=\"\\n\")"
   ]
  },
  {
   "source": [
    "USER INPUT"
   ],
   "cell_type": "markdown",
   "metadata": {}
  },
  {
   "cell_type": "code",
   "execution_count": 41,
   "metadata": {},
   "outputs": [],
   "source": [
    "matrix_size = int(input(\"Enter matrix size\"))"
   ]
  },
  {
   "cell_type": "code",
   "execution_count": 42,
   "metadata": {},
   "outputs": [],
   "source": [
    "matrix1 = generate_Matrix(matrix_size)\n",
    "matrix2 = generate_Matrix(matrix_size)"
   ]
  },
  {
   "cell_type": "code",
   "execution_count": 50,
   "metadata": {},
   "outputs": [
    {
     "output_type": "stream",
     "name": "stdout",
     "text": [
      "Randomly generated Matrix 1:\n\n[1, 1, 1, 1, 0]\n[0, 1, 0, 0, 0]\n[0, 0, 1, 0, 1]\n[1, 0, 1, 1, 1]\n[0, 0, 1, 1, 0]\n"
     ]
    }
   ],
   "source": [
    "print(\"Randomly generated Matrix 1:\\n\")\n",
    "display(matrix1)"
   ]
  },
  {
   "cell_type": "code",
   "execution_count": 51,
   "metadata": {},
   "outputs": [
    {
     "output_type": "stream",
     "name": "stdout",
     "text": [
      "Randomly generated Matrix 2:\n\n[0, 1, 1, 1, 0]\n[0, 0, 1, 0, 0]\n[0, 1, 0, 1, 0]\n[1, 1, 1, 0, 0]\n[1, 0, 1, 0, 1]\n"
     ]
    }
   ],
   "source": [
    "print(\"Randomly generated Matrix 2:\\n\")\n",
    "display(matrix2)"
   ]
  },
  {
   "source": [
    "### Logical Operations Result"
   ],
   "cell_type": "markdown",
   "metadata": {}
  },
  {
   "cell_type": "code",
   "execution_count": 56,
   "metadata": {},
   "outputs": [
    {
     "output_type": "stream",
     "name": "stdout",
     "text": [
      "Logical NOT of Matrix 1:\n\n[0, 0, 0, 0, 1]\n[1, 0, 1, 1, 1]\n[1, 1, 0, 1, 0]\n[0, 1, 0, 0, 0]\n[1, 1, 0, 0, 1]\n\nLogical NOT of Matrix 2:\n\n[1, 0, 0, 0, 1]\n[1, 1, 0, 1, 1]\n[1, 0, 1, 0, 1]\n[0, 0, 0, 1, 1]\n[0, 1, 0, 1, 0]\n"
     ]
    }
   ],
   "source": [
    "print(\"Logical NOT of Matrix 1:\\n\")\n",
    "display(logicalNOT(matrix1))\n",
    "print(\"\\nLogical NOT of Matrix 2:\\n\")\n",
    "display(logicalNOT(matrix2))"
   ]
  },
  {
   "cell_type": "code",
   "execution_count": 57,
   "metadata": {},
   "outputs": [
    {
     "output_type": "stream",
     "name": "stdout",
     "text": [
      "Logical AND of Matrix 1 and Matrix 2:\n\n[0, 1, 1, 1, 0]\n[0, 0, 0, 0, 0]\n[0, 0, 0, 0, 0]\n[1, 0, 1, 0, 0]\n[0, 0, 1, 0, 0]\n"
     ]
    }
   ],
   "source": [
    "print(\"Logical AND of Matrix 1 and Matrix 2:\\n\")\n",
    "display(logicalAND(matrix1, matrix2))"
   ]
  },
  {
   "cell_type": "code",
   "execution_count": 58,
   "metadata": {},
   "outputs": [
    {
     "output_type": "stream",
     "name": "stdout",
     "text": [
      "Logical OR of Matrix 1 and Matrix 2:\n\n[1, 1, 1, 1, 0]\n[0, 1, 1, 0, 0]\n[0, 1, 1, 1, 1]\n[1, 1, 1, 1, 1]\n[1, 0, 1, 1, 1]\n"
     ]
    }
   ],
   "source": [
    "print(\"Logical OR of Matrix 1 and Matrix 2:\\n\")\n",
    "display(logicalOR(matrix1, matrix2))"
   ]
  },
  {
   "cell_type": "code",
   "execution_count": 59,
   "metadata": {},
   "outputs": [
    {
     "output_type": "stream",
     "name": "stdout",
     "text": [
      "Logical XOR of Matrix 1 and Matrix 2:\n\n[1, 0, 0, 0, 0]\n[0, 1, 1, 0, 0]\n[0, 1, 1, 1, 1]\n[0, 1, 0, 1, 1]\n[1, 0, 0, 1, 1]\n"
     ]
    }
   ],
   "source": [
    "print(\"Logical XOR of Matrix 1 and Matrix 2:\\n\")\n",
    "display(logicalXOR(matrix1, matrix2))"
   ]
  },
  {
   "cell_type": "code",
   "execution_count": null,
   "metadata": {},
   "outputs": [],
   "source": []
  }
 ]
}