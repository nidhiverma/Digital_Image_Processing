{
 "metadata": {
  "language_info": {
   "codemirror_mode": {
    "name": "ipython",
    "version": 3
   },
   "file_extension": ".py",
   "mimetype": "text/x-python",
   "name": "python",
   "nbconvert_exporter": "python",
   "pygments_lexer": "ipython3",
   "version": "3.9.1-final"
  },
  "orig_nbformat": 2,
  "kernelspec": {
   "name": "python3",
   "display_name": "Python 3.9.1 64-bit",
   "metadata": {
    "interpreter": {
     "hash": "ee5cc6fef2d70a7e71ee3826687cbd150f18158e0b1eef11d4f4f92bb920e304"
    }
   }
  }
 },
 "nbformat": 4,
 "nbformat_minor": 2,
 "cells": [
  {
   "source": [
    "# Assignment 3.2 (Arithmetic Operations on Grayscale Images)\n",
    "<i>Date: 18-01-2021 </i><br>\n",
    "<i>Nidhi Verma, Roll No. 27</i>"
   ],
   "cell_type": "markdown",
   "metadata": {}
  },
  {
   "cell_type": "code",
   "execution_count": 26,
   "metadata": {},
   "outputs": [],
   "source": [
    "from random import *\n",
    "import math"
   ]
  },
  {
   "cell_type": "code",
   "execution_count": 15,
   "metadata": {},
   "outputs": [],
   "source": [
    "def generate_Matrix(size):\n",
    "    '''\n",
    "        Function to generate random matrix with binary values\n",
    "    '''\n",
    "    matrix = [[0 for i in range(size)] for j in range(size)] \n",
    "    for row in range(len(matrix)):\n",
    "        for col in range(len(matrix[row])):\n",
    "            matrix[row][col] = randint(0, 255)\n",
    "    return matrix\n"
   ]
  },
  {
   "cell_type": "code",
   "execution_count": 16,
   "metadata": {},
   "outputs": [],
   "source": [
    "def display(matrix):\n",
    "    '''\n",
    "        Description: Utility function to display matrix\n",
    "    '''\n",
    "    for i in range(len(matrix)):\n",
    "        print(matrix[i], end=\"\\n\")"
   ]
  },
  {
   "cell_type": "code",
   "execution_count": 31,
   "metadata": {},
   "outputs": [],
   "source": [
    "def addition(matrix1, matrix2):\n",
    "    '''\n",
    "        Function to perform Arithmetic Addition operation on grayscale image\n",
    "    '''\n",
    "    output = [[0 for j in range(len(matrix1))] for i in range(len(matrix1))]\n",
    "\n",
    "    for i in range(len(matrix1)):\n",
    "        for j in range(len(matrix1)):\n",
    "            res = matrix1[i][j] + matrix2[i][j]\n",
    "            output[i][j] = math.floor(res/2) if res > 255 else res\n",
    "    return output"
   ]
  },
  {
   "cell_type": "code",
   "execution_count": 73,
   "metadata": {},
   "outputs": [],
   "source": [
    "def subtraction(matrix1, matrix2):\n",
    "    '''\n",
    "        Function to perform Arithmetic Subtraction operation on grayscale image\n",
    "    '''\n",
    "    output = [[0 for j in range(len(matrix1))] for i in range(len(matrix1))]\n",
    "\n",
    "    for i in range(len(matrix1)):\n",
    "        for j in range(len(matrix1)):\n",
    "            res = abs(matrix1[i][j] - matrix2[i][j])\n",
    "            output[i][j] = res\n",
    "    return output"
   ]
  },
  {
   "cell_type": "code",
   "execution_count": 41,
   "metadata": {},
   "outputs": [],
   "source": [
    "def multiplication(matrix1, matrix2):\n",
    "    '''\n",
    "        Function to perform Arithmetic Multiplication operation on grayscale image\n",
    "    '''\n",
    "    output = [[0 for j in range(len(matrix1))] for i in range(len(matrix1))]\n",
    "\n",
    "    for i in range(len(matrix1)):\n",
    "        for j in range(len(matrix1)):\n",
    "            res = matrix1[i][j] * matrix2[i][j]\n",
    "            while res > 255:\n",
    "                res = math.floor(res/2)\n",
    "            output[i][j] = res\n",
    "    return output"
   ]
  },
  {
   "cell_type": "code",
   "execution_count": 57,
   "metadata": {},
   "outputs": [],
   "source": [
    "def scalarOperation(matrix, scaler, op):\n",
    "    '''\n",
    "        Function to perform Arithmetic Scaling operation on grayscale image\n",
    "    '''\n",
    "    output = [[0 for j in range(len(matrix))] for i in range(len(matrix))]\n",
    "\n",
    "    for i in range(len(matrix)):\n",
    "        for j in range(len(matrix)):\n",
    "            if op == '+':\n",
    "                output[i][j] = matrix[i][j] + scaler \n",
    "            if op == '-':\n",
    "                output[i][j] = matrix[i][j] - scaler \n",
    "            if op == '*':\n",
    "                output[i][j] = matrix[i][j] * scaler \n",
    "            if op == '/':\n",
    "                output[i][j] = math.floor(matrix[i][j] / scaler) \n",
    "            \n",
    "            while output[i][j] > 255:\n",
    "                output[i][j] = math.floor(output[i][j]/2)\n",
    "    return output"
   ]
  },
  {
   "cell_type": "code",
   "execution_count": 21,
   "metadata": {},
   "outputs": [],
   "source": [
    "matrix_size = int(input(\"Enter matrix size\"))"
   ]
  },
  {
   "cell_type": "code",
   "execution_count": 22,
   "metadata": {},
   "outputs": [],
   "source": [
    "matrix1 = generate_Matrix(matrix_size)\n",
    "matrix2 = generate_Matrix(matrix_size)"
   ]
  },
  {
   "cell_type": "code",
   "execution_count": 23,
   "metadata": {},
   "outputs": [
    {
     "output_type": "stream",
     "name": "stdout",
     "text": [
      "Randomly generated Matrix 1:\n\n[27, 30, 179, 196]\n[218, 41, 42, 213]\n[223, 25, 197, 224]\n[15, 228, 158, 213]\n\nRandomly generated Matrix 2:\n\n[28, 215, 3, 105]\n[177, 188, 27, 53]\n[247, 109, 11, 188]\n[239, 44, 141, 213]\n"
     ]
    }
   ],
   "source": [
    "print(\"Randomly generated Matrix 1:\\n\")\n",
    "display(matrix1)\n",
    "print(\"\\nRandomly generated Matrix 2:\\n\")\n",
    "display(matrix2)"
   ]
  },
  {
   "source": [
    "### Arithmetic Operation Result"
   ],
   "cell_type": "markdown",
   "metadata": {}
  },
  {
   "source": [
    "Arithmetic Addition Result"
   ],
   "cell_type": "markdown",
   "metadata": {}
  },
  {
   "cell_type": "code",
   "execution_count": 32,
   "metadata": {},
   "outputs": [
    {
     "output_type": "stream",
     "name": "stdout",
     "text": [
      "Addition of Matrix 1 and Matrix 2:\n\n[55, 245, 182, 150]\n[197, 229, 69, 133]\n[235, 134, 208, 206]\n[254, 136, 149, 213]\n"
     ]
    }
   ],
   "source": [
    "print(\"Addition of Matrix 1 and Matrix 2:\\n\")\n",
    "display(addition(matrix1, matrix2))"
   ]
  },
  {
   "source": [
    "Arithmetic Subtraction Result"
   ],
   "cell_type": "markdown",
   "metadata": {}
  },
  {
   "cell_type": "code",
   "execution_count": 33,
   "metadata": {},
   "outputs": [
    {
     "output_type": "stream",
     "name": "stdout",
     "text": [
      "Subtraction of Matrix 1 and Matrix 2:\n\n[1, 185, 176, 91]\n[41, 147, 15, 160]\n[24, 84, 186, 36]\n[224, 184, 17, 0]\n"
     ]
    }
   ],
   "source": [
    "print(\"Subtraction of Matrix 1 and Matrix 2:\\n\")\n",
    "display(subtraction(matrix1, matrix2))"
   ]
  },
  {
   "source": [
    "Arithmetic Multiplication Result"
   ],
   "cell_type": "markdown",
   "metadata": {}
  },
  {
   "cell_type": "code",
   "execution_count": 42,
   "metadata": {},
   "outputs": [
    {
     "output_type": "stream",
     "name": "stdout",
     "text": [
      "Multiplication of Matrix 1 and Matrix 2:\n\n[189, 201, 134, 160]\n[150, 240, 141, 176]\n[215, 170, 135, 164]\n[224, 156, 174, 177]\n"
     ]
    }
   ],
   "source": [
    "print(\"Multiplication of Matrix 1 and Matrix 2:\\n\")\n",
    "display(multiplication(matrix1, matrix2))"
   ]
  },
  {
   "source": [
    "Scalar Operations Result"
   ],
   "cell_type": "markdown",
   "metadata": {}
  },
  {
   "cell_type": "code",
   "execution_count": 72,
   "metadata": {},
   "outputs": [
    {
     "output_type": "stream",
     "name": "stdout",
     "text": [
      "Scalar value = 4\n"
     ]
    }
   ],
   "source": [
    "scalar = int(input(\"Enter scaler value\"))\n",
    "print(\"Scalar value = {}\".format(scalar))"
   ]
  },
  {
   "cell_type": "code",
   "execution_count": 71,
   "metadata": {},
   "outputs": [
    {
     "output_type": "stream",
     "name": "stdout",
     "text": [
      "Scalar Addition by 3:\n\n[30, 33, 182, 199]\n[221, 44, 45, 216]\n[226, 28, 200, 227]\n[18, 231, 161, 216]\n"
     ]
    }
   ],
   "source": [
    "print(\"Scalar Addition by {}:\\n\".format(scalar))\n",
    "display(scalarOperation(matrix1, scalar, '+'))"
   ]
  },
  {
   "cell_type": "code",
   "execution_count": 70,
   "metadata": {},
   "outputs": [
    {
     "output_type": "stream",
     "name": "stdout",
     "text": [
      "Scalar Subtraction by 3:\n\n[24, 27, 176, 193]\n[215, 38, 39, 210]\n[220, 22, 194, 221]\n[12, 225, 155, 210]\n"
     ]
    }
   ],
   "source": [
    "print(\"Scalar Subtraction by {}:\\n\".format(scalar))\n",
    "display(scalarOperation(matrix1, scalar, '-'))"
   ]
  },
  {
   "source": [
    "print(\"Scalar Mulitplication by {}:\\n\".format(scalar))\n",
    "display(scalarOperation(matrix1, scalar, '*'))"
   ],
   "cell_type": "code",
   "metadata": {},
   "execution_count": 69,
   "outputs": [
    {
     "output_type": "stream",
     "name": "stdout",
     "text": [
      "Scalar Mulitplication by 3:\n\n[81, 90, 134, 147]\n[163, 123, 126, 159]\n[167, 75, 147, 168]\n[45, 171, 237, 159]\n"
     ]
    }
   ]
  },
  {
   "cell_type": "code",
   "execution_count": 67,
   "metadata": {},
   "outputs": [
    {
     "output_type": "stream",
     "name": "stdout",
     "text": [
      "Scalar Division by 3:\n\n[9, 10, 59, 65]\n[72, 13, 14, 71]\n[74, 8, 65, 74]\n[5, 76, 52, 71]\n"
     ]
    }
   ],
   "source": [
    "print(\"Scalar Division by {}:\\n\".format(scalar))\n",
    "display(scalarOperation(matrix1, scaler, '/'))"
   ]
  },
  {
   "cell_type": "code",
   "execution_count": null,
   "metadata": {},
   "outputs": [],
   "source": []
  }
 ]
}